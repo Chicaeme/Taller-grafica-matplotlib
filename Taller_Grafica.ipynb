{
  "nbformat": 4,
  "nbformat_minor": 0,
  "metadata": {
    "colab": {
      "provenance": [],
      "authorship_tag": "ABX9TyMfYiX9z1R0jULwU9Em5EIo",
      "include_colab_link": true
    },
    "kernelspec": {
      "name": "python3",
      "display_name": "Python 3"
    },
    "language_info": {
      "name": "python"
    }
  },
  "cells": [
    {
      "cell_type": "markdown",
      "metadata": {
        "id": "view-in-github",
        "colab_type": "text"
      },
      "source": [
        "<a href=\"https://colab.research.google.com/github/Chicaeme/Taller-grafica-matplotlib/blob/main/Taller_Grafica.ipynb\" target=\"_parent\"><img src=\"https://colab.research.google.com/assets/colab-badge.svg\" alt=\"Open In Colab\"/></a>"
      ]
    },
    {
      "cell_type": "code",
      "execution_count": null,
      "metadata": {
        "colab": {
          "base_uri": "https://localhost:8080/"
        },
        "id": "oloCJfQwcbKz",
        "outputId": "66cac306-4d60-4649-e306-0f230415340a"
      },
      "outputs": [
        {
          "output_type": "stream",
          "name": "stdout",
          "text": [
            "Estaturas de los estudiantes: [188 160 160 160 160 160 165 159 175 159 172 174 180 170 174 179 185 168]\n",
            "Media: 169.33333333333334\n",
            "Mediana: 169.0\n",
            "Desviación estándar: 9.291573243177568\n"
          ]
        }
      ],
      "source": [
        "import numpy as np\n",
        "\n",
        "# Creamos un array con la estatura de 18 estudiantes\n",
        "estaturas = np.array([188, 160, 160, 160, 160, 160, 165, 159, 175, 159, 172, 174, 180, 170, 174, 179, 185, 168])\n",
        "\n",
        "# Calculamos la media, mediana y desviación estándar\n",
        "media = np.mean(estaturas)\n",
        "mediana = np.median(estaturas)\n",
        "desviacion_estandar = np.std(estaturas)\n",
        "\n",
        "# Mostramos los resultados\n",
        "print(\"Estaturas de los estudiantes:\", estaturas)\n",
        "print(\"Media:\", media)\n",
        "print(\"Mediana:\", mediana)\n",
        "print(\"Desviación estándar:\", desviacion_estandar)\n"
      ]
    },
    {
      "cell_type": "code",
      "source": [
        "import matplotlib.pyplot as plt\n"
      ],
      "metadata": {
        "id": "aojqyISvtqb5"
      },
      "execution_count": null,
      "outputs": []
    },
    {
      "cell_type": "code",
      "source": [
        "\n",
        "\n",
        "# Generar estaturas aleatorias para 18 estudiantes (en centímetros)\n",
        "estaturas = np.array([188, 160, 160, 160, 160, 160, 165, 159, 175, 159, 172, 174, 180, 170, 174, 179, 185, 168])\n",
        "\n",
        "# Redimensionar el ndarray a una matriz de 2D con 18 filas y 1 columna\n",
        "estaturas = estaturas.reshape(18, 1)\n",
        "\n",
        "# Calcular la media, mediana y desviación estándar\n",
        "media = np.mean(estaturas)\n",
        "mediana = np.median(estaturas)\n",
        "desviacion_estandar = np.std(estaturas)\n",
        "\n",
        "# Mostrar los resultados\n",
        "print(\"Estaturas de los estudiantes:\\n\", estaturas)\n",
        "print(\"Media:\", media)\n",
        "print(\"Mediana:\", mediana)\n",
        "print(\"Desviación estándar:\", desviacion_estandar)\n",
        "\n",
        "# Graficar los datos usando imshow\n",
        "plt.imshow(estaturas, aspect='auto', cmap='viridis')\n",
        "plt.colorbar(label='Estaturas')\n",
        "plt.title('Estaturas de los estudiantes')\n",
        "plt.xlabel('Estudiantes')\n",
        "plt.ylabel('Estatura')\n",
        "plt.show()"
      ],
      "metadata": {
        "colab": {
          "base_uri": "https://localhost:8080/",
          "height": 854
        },
        "id": "6qi-wKTQiS1E",
        "outputId": "4ecb14d1-d234-44f9-e872-e6aa5758521b"
      },
      "execution_count": null,
      "outputs": [
        {
          "output_type": "stream",
          "name": "stdout",
          "text": [
            "Estaturas de los estudiantes:\n",
            " [[188]\n",
            " [160]\n",
            " [160]\n",
            " [160]\n",
            " [160]\n",
            " [160]\n",
            " [165]\n",
            " [159]\n",
            " [175]\n",
            " [159]\n",
            " [172]\n",
            " [174]\n",
            " [180]\n",
            " [170]\n",
            " [174]\n",
            " [179]\n",
            " [185]\n",
            " [168]]\n",
            "Media: 169.33333333333334\n",
            "Mediana: 169.0\n",
            "Desviación estándar: 9.291573243177568\n"
          ]
        },
        {
          "output_type": "display_data",
          "data": {
            "text/plain": [
              "<Figure size 640x480 with 2 Axes>"
            ],
            "image/png": "[encoded data removed]"
          },
          "metadata": {}
        }
      ]
    }
  ]
}